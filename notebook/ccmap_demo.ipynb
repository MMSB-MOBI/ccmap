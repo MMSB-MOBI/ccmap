{
 "cells": [
  {
   "cell_type": "code",
   "execution_count": 1,
   "metadata": {
    "collapsed": false,
    "deletable": true,
    "editable": true
   },
   "outputs": [],
   "source": [
    "#%matplotlib inline\n",
    "import sys, os\n",
    "sys.path.append(\"./pyproteinsExt/src\")\n",
    "sys.path.append(\"./pyproteins/src\")\n",
    "sys.path.append(\"./ccmap/src\")\n",
    "\n",
    "%load_ext autoreload\n",
    "import pyproteinsExt.structure.coordinates as PDB\n",
    "import pyproteinsExt.structure.operations as PDBop"
   ]
  },
  {
   "cell_type": "code",
   "execution_count": 2,
   "metadata": {
    "collapsed": false,
    "deletable": true,
    "editable": true
   },
   "outputs": [],
   "source": [
    "%autoreload 2\n",
    "parser = PDB.Parser()\n",
    "pdbObjRec = parser.load(file=\"./data/1a2y_u1.pdb\")\n",
    "pdbObjLig = parser.load(file=\"./data/1a2y_u2.988.pdb\")\n"
   ]
  },
  {
   "cell_type": "code",
   "execution_count": 4,
   "metadata": {
    "collapsed": false,
    "deletable": true,
    "editable": true
   },
   "outputs": [],
   "source": [
    "%autoreload 2\n",
    "import  ccmap\n",
    "#print ccmap\n",
    "map = ccmap.duals([(pdbObjRec.atomDictorize, pdbObjLig.atomDictorize)], 4.5)"
   ]
  },
  {
   "cell_type": "code",
   "execution_count": null,
   "metadata": {
    "collapsed": true,
    "deletable": true,
    "editable": true
   },
   "outputs": [],
   "source": [
    "print map"
   ]
  },
  {
   "cell_type": "code",
   "execution_count": 5,
   "metadata": {
    "collapsed": false
   },
   "outputs": [],
   "source": [
    "import json\n",
    "\n",
    "class Item(object):\n",
    "    def __init__(self, datum):\n",
    "        self.chainID = datum['chainID']\n",
    "        self.resID = datum['resID']\n",
    "        \n",
    "    def __hash__(self):\n",
    "        return hash(self.chainID + self.resID)\n",
    "\n",
    "    def __str__(self):\n",
    "        return self.resID + self.chainID\n",
    "\n",
    "    def __repr__(self):\n",
    "        return self.__str__()\n",
    "\n",
    "def viewCCmap(dirMap=None, jsonMap=None):\n",
    "    \n",
    "    mapRegistry = [ json.loads(m) for m in map ] if jsonMap else dirMap\n",
    "    for m in mapRegistry:\n",
    "        NB_cont=0 \n",
    "        for cclist in m['data']:\n",
    "            rootRes = Item(cclist['root'])\n",
    "            for p in cclist['partners']:\n",
    "                partnerRes = Item(p)\n",
    "                NB_cont+=1    \n",
    "                print str(rootRes)+','+str(partnerRes)  \n",
    "        print 'Nb contacts '+str(NB_cont)\n",
    "    "
   ]
  },
  {
   "cell_type": "code",
   "execution_count": 7,
   "metadata": {
    "collapsed": true
   },
   "outputs": [],
   "source": [
    "refCCmap=[{\"type\":\"contactList\", \"data\":[{\"root\":{\"resID\" : \"  30\", \"chainID\":\"A\"},\"partners\":[{\"resID\" : \" 129\", \"chainID\":\"A\"},{\"resID\" : \"  13\", \"chainID\":\"A\"}]},{\"root\":{\"resID\" : \"  32\", \"chainID\":\"A\"},\"partners\":[{\"resID\" : \"  13\", \"chainID\":\"A\"},{\"resID\" : \"  18\", \"chainID\":\"A\"}]},{\"root\":{\"resID\" : \"  50\", \"chainID\":\"A\"},\"partners\":[{\"resID\" : \"  13\", \"chainID\":\"A\"},{\"resID\" : \"  18\", \"chainID\":\"A\"},{\"resID\" : \"  19\", \"chainID\":\"A\"}]},{\"root\":{\"resID\" : \"  92\", \"chainID\":\"A\"},\"partners\":[{\"resID\" : \" 127\", \"chainID\":\"A\"},{\"resID\" : \" 129\", \"chainID\":\"A\"},{\"resID\" : \" 128\", \"chainID\":\"A\"}]},{\"root\":{\"resID\" : \"  30\", \"chainID\":\"B\"},\"partners\":[{\"resID\" : \" 117\", \"chainID\":\"A\"},{\"resID\" : \" 118\", \"chainID\":\"A\"},{\"resID\" : \" 116\", \"chainID\":\"A\"}]},{\"root\":{\"resID\" : \"  52\", \"chainID\":\"B\"},\"partners\":[{\"resID\" : \" 119\", \"chainID\":\"A\"},{\"resID\" : \" 125\", \"chainID\":\"A\"},{\"resID\" : \" 120\", \"chainID\":\"A\"},{\"resID\" : \" 121\", \"chainID\":\"A\"}]},{\"root\":{\"resID\" : \"  53\", \"chainID\":\"B\"},\"partners\":[{\"resID\" : \" 118\", \"chainID\":\"A\"},{\"resID\" : \" 119\", \"chainID\":\"A\"},{\"resID\" : \" 117\", \"chainID\":\"A\"}]},{\"root\":{\"resID\" : \"  54\", \"chainID\":\"B\"},\"partners\":[{\"resID\" : \" 117\", \"chainID\":\"A\"},{\"resID\" : \" 118\", \"chainID\":\"A\"},{\"resID\" : \" 119\", \"chainID\":\"A\"},{\"resID\" : \" 122\", \"chainID\":\"A\"}]},{\"root\":{\"resID\" : \"  56\", \"chainID\":\"B\"},\"partners\":[{\"resID\" : \" 119\", \"chainID\":\"A\"},{\"resID\" : \" 125\", \"chainID\":\"A\"}]},{\"root\":{\"resID\" : \"  58\", \"chainID\":\"B\"},\"partners\":[{\"resID\" : \" 125\", \"chainID\":\"A\"}]},{\"root\":{\"resID\" : \"  99\", \"chainID\":\"B\"},\"partners\":[{\"resID\" : \"  22\", \"chainID\":\"A\"}]},{\"root\":{\"resID\" : \" 100\", \"chainID\":\"B\"},\"partners\":[{\"resID\" : \"  19\", \"chainID\":\"A\"},{\"resID\" : \"  22\", \"chainID\":\"A\"},{\"resID\" : \"  23\", \"chainID\":\"A\"},{\"resID\" : \"  24\", \"chainID\":\"A\"},{\"resID\" : \"  27\", \"chainID\":\"A\"}]},{\"root\":{\"resID\" : \" 101\", \"chainID\":\"B\"},\"partners\":[{\"resID\" : \"  18\", \"chainID\":\"A\"},{\"resID\" : \"  24\", \"chainID\":\"A\"},{\"resID\" : \"  25\", \"chainID\":\"A\"},{\"resID\" : \"  19\", \"chainID\":\"A\"}]},{\"root\":{\"resID\" : \" 102\", \"chainID\":\"B\"},\"partners\":[{\"resID\" : \"  19\", \"chainID\":\"A\"}]}]}]"
   ]
  },
  {
   "cell_type": "code",
   "execution_count": 6,
   "metadata": {
    "collapsed": false
   },
   "outputs": [
    {
     "name": "stdout",
     "output_type": "stream",
     "text": [
      "  30 A, 129 A\n",
      "  30 A,  13 A\n",
      "  32 A,  18 A\n",
      "  32 A,  13 A\n",
      "  50 A,  19 A\n",
      "  92 A, 128 A\n",
      "  92 A, 129 A\n",
      "  30 B, 117 A\n",
      "  30 B, 118 A\n",
      "  31 B, 117 A\n",
      "  52 B, 119 A\n",
      "  52 B, 121 A\n",
      "  52 B, 125 A\n",
      "  53 B, 119 A\n",
      "  53 B, 117 A\n",
      "  53 B, 118 A\n",
      "  54 B, 119 A\n",
      "  54 B, 118 A\n",
      "  54 B, 117 A\n",
      "  56 B, 119 A\n",
      "  56 B, 125 A\n",
      "  58 B, 125 A\n",
      "  99 B,  22 A\n",
      " 100 B,  24 A\n",
      " 100 B,  19 A\n",
      " 100 B,  23 A\n",
      " 100 B,  22 A\n",
      " 101 B,  18 A\n",
      " 101 B,  24 A\n",
      " 101 B,  19 A\n",
      " 101 B, 121 A\n",
      " 101 B,  25 A\n",
      "  13 A,  50 A\n",
      "  18 A,  32 A\n",
      "  18 A, 101 B\n",
      "  18 A,  50 A\n",
      "  19 A, 100 B\n",
      "  19 A,  50 A\n",
      "  23 A, 100 B\n",
      "  24 A, 100 B\n",
      "  24 A, 101 B\n",
      "  25 A, 101 B\n",
      "  25 A,  32 A\n",
      "  27 A, 100 B\n",
      " 117 A,  31 B\n",
      " 119 A,  52 B\n",
      " 119 A,  54 B\n",
      " 121 A,  52 B\n",
      " 121 A, 101 B\n",
      " 124 A, 101 B\n",
      " 124 A,  32 A\n",
      " 125 A,  52 B\n",
      " 127 A,  92 A\n",
      " 129 A,  30 A\n",
      " 129 A,  32 A\n",
      "Nb contacts 55\n"
     ]
    }
   ],
   "source": [
    "viewCCmap(jsonMap=map)\n",
    "#viewCCmap(dirMap=refCCmap)"
   ]
  }
 ],
 "metadata": {
  "kernelspec": {
   "display_name": "nesprins (p=2.7)",
   "language": "python",
   "name": "nesprins"
  },
  "language_info": {
   "codemirror_mode": {
    "name": "ipython",
    "version": 2
   },
   "file_extension": ".py",
   "mimetype": "text/x-python",
   "name": "python",
   "nbconvert_exporter": "python",
   "pygments_lexer": "ipython2",
   "version": "2.7.12"
  }
 },
 "nbformat": 4,
 "nbformat_minor": 1
}
