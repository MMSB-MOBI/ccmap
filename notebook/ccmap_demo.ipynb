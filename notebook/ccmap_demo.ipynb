{
 "cells": [
  {
   "cell_type": "code",
   "execution_count": 8,
   "metadata": {},
   "outputs": [
    {
     "name": "stdout",
     "output_type": "stream",
     "text": [
      "The autoreload extension is already loaded. To reload it, use:\n",
      "  %reload_ext autoreload\n"
     ]
    },
    {
     "ename": "ModuleNotFoundError",
     "evalue": "No module named 'ccmap'",
     "output_type": "error",
     "traceback": [
      "\u001b[0;31m---------------------------------------------------------------------------\u001b[0m",
      "\u001b[0;31mModuleNotFoundError\u001b[0m                       Traceback (most recent call last)",
      "\u001b[0;32m<ipython-input-8-edb2f5a198ac>\u001b[0m in \u001b[0;36m<module>\u001b[0;34m\u001b[0m\n\u001b[1;32m      4\u001b[0m \u001b[0;34m\u001b[0m\u001b[0m\n\u001b[1;32m      5\u001b[0m \u001b[0mget_ipython\u001b[0m\u001b[0;34m(\u001b[0m\u001b[0;34m)\u001b[0m\u001b[0;34m.\u001b[0m\u001b[0mrun_line_magic\u001b[0m\u001b[0;34m(\u001b[0m\u001b[0;34m'load_ext'\u001b[0m\u001b[0;34m,\u001b[0m \u001b[0;34m'autoreload'\u001b[0m\u001b[0;34m)\u001b[0m\u001b[0;34m\u001b[0m\u001b[0;34m\u001b[0m\u001b[0m\n\u001b[0;32m----> 6\u001b[0;31m \u001b[0;32mimport\u001b[0m \u001b[0mpyproteinsExt\u001b[0m\u001b[0;34m.\u001b[0m\u001b[0mstructure\u001b[0m \u001b[0;32mas\u001b[0m \u001b[0mstructure\u001b[0m\u001b[0;34m\u001b[0m\u001b[0;34m\u001b[0m\u001b[0m\n\u001b[0m\u001b[1;32m      7\u001b[0m \u001b[0;34m\u001b[0m\u001b[0m\n\u001b[1;32m      8\u001b[0m \u001b[0mget_ipython\u001b[0m\u001b[0;34m(\u001b[0m\u001b[0;34m)\u001b[0m\u001b[0;34m.\u001b[0m\u001b[0mrun_line_magic\u001b[0m\u001b[0;34m(\u001b[0m\u001b[0;34m'autoreload'\u001b[0m\u001b[0;34m,\u001b[0m \u001b[0;34m'2'\u001b[0m\u001b[0;34m)\u001b[0m\u001b[0;34m\u001b[0m\u001b[0;34m\u001b[0m\u001b[0m\n",
      "\u001b[0;32m~/Dev/pyproteinsExt/src/pyproteinsExt/structure/__init__.py\u001b[0m in \u001b[0;36m<module>\u001b[0;34m\u001b[0m\n\u001b[1;32m      1\u001b[0m \u001b[0;32mfrom\u001b[0m \u001b[0;34m.\u001b[0m\u001b[0mcoordinates\u001b[0m \u001b[0;32mimport\u001b[0m \u001b[0mParser\u001b[0m\u001b[0;34m\u001b[0m\u001b[0;34m\u001b[0m\u001b[0m\n\u001b[0;32m----> 2\u001b[0;31m \u001b[0;32mfrom\u001b[0m \u001b[0;34m.\u001b[0m\u001b[0mccmap_wrapper\u001b[0m \u001b[0;32mimport\u001b[0m \u001b[0mccmap\u001b[0m\u001b[0;34m\u001b[0m\u001b[0;34m\u001b[0m\u001b[0m\n\u001b[0m",
      "\u001b[0;32m~/Dev/pyproteinsExt/src/pyproteinsExt/structure/ccmap_wrapper.py\u001b[0m in \u001b[0;36m<module>\u001b[0;34m\u001b[0m\n\u001b[0;32m----> 1\u001b[0;31m \u001b[0;32mimport\u001b[0m \u001b[0mccmap\u001b[0m \u001b[0;32mas\u001b[0m \u001b[0mc_ccmap\u001b[0m\u001b[0;34m\u001b[0m\u001b[0;34m\u001b[0m\u001b[0m\n\u001b[0m\u001b[1;32m      2\u001b[0m \u001b[0;34m\u001b[0m\u001b[0m\n\u001b[1;32m      3\u001b[0m \u001b[0;32mdef\u001b[0m \u001b[0mccmap\u001b[0m\u001b[0;34m(\u001b[0m\u001b[0mpdbRec\u001b[0m\u001b[0;34m,\u001b[0m \u001b[0mpdbLig\u001b[0m\u001b[0;34m,\u001b[0m \u001b[0mdist\u001b[0m\u001b[0;34m)\u001b[0m\u001b[0;34m:\u001b[0m\u001b[0;34m\u001b[0m\u001b[0;34m\u001b[0m\u001b[0m\n\u001b[1;32m      4\u001b[0m     \u001b[0mint_map\u001b[0m \u001b[0;34m=\u001b[0m \u001b[0mc_ccmap\u001b[0m\u001b[0;34m.\u001b[0m\u001b[0mduals\u001b[0m\u001b[0;34m(\u001b[0m\u001b[0;34m[\u001b[0m\u001b[0;34m(\u001b[0m\u001b[0mpdbRec\u001b[0m\u001b[0;34m.\u001b[0m\u001b[0matomDictorize\u001b[0m\u001b[0;34m,\u001b[0m \u001b[0mpdbLig\u001b[0m\u001b[0;34m.\u001b[0m\u001b[0matomDictorize\u001b[0m\u001b[0;34m)\u001b[0m\u001b[0;34m]\u001b[0m\u001b[0;34m,\u001b[0m \u001b[0mdist\u001b[0m\u001b[0;34m)\u001b[0m\u001b[0;34m\u001b[0m\u001b[0;34m\u001b[0m\u001b[0m\n\u001b[1;32m      5\u001b[0m     \u001b[0mlig_residues\u001b[0m \u001b[0;34m=\u001b[0m \u001b[0mpdbLig\u001b[0m\u001b[0;34m.\u001b[0m\u001b[0mgetResID\u001b[0m\u001b[0;34m\u001b[0m\u001b[0;34m\u001b[0m\u001b[0m\n",
      "\u001b[0;31mModuleNotFoundError\u001b[0m: No module named 'ccmap'"
     ]
    }
   ],
   "source": [
    "#%matplotlib inline\n",
    "import sys, os\n",
    "sys.path.append(\"/home/chilpert/Dev/pyproteinsExt/src\") #Load development local version of pyproteinsExt\n",
    "\n",
    "%load_ext autoreload\n",
    "import pyproteinsExt.structure as structure\n",
    "\n",
    "%autoreload 2"
   ]
  },
  {
   "cell_type": "code",
   "execution_count": 19,
   "metadata": {},
   "outputs": [],
   "source": [
    "parser = structure.Parser()\n",
    "pdbObjRec = parser.load(file=\"../data/1a2y_u1.pdb\")\n",
    "pdbObjLig = parser.load(file=\"../data/1a2y_u2.988.pdb\")"
   ]
  },
  {
   "cell_type": "code",
   "execution_count": 21,
   "metadata": {},
   "outputs": [],
   "source": [
    "contact_map = structure.ccmap(pdbObjRec, pdbObjLig, 4.5)"
   ]
  },
  {
   "cell_type": "code",
   "execution_count": 22,
   "metadata": {},
   "outputs": [
    {
     "name": "stdout",
     "output_type": "stream",
     "text": [
      "[('HIS 30 :A', 'LEU 129 :A'), ('HIS 30 :A', 'LYS 13 :A'), ('TYR 32 :A', 'ASP 18 :A'), ('TYR 32 :A', 'LYS 13 :A'), ('TYR 32 :A', 'LEU 25 :A'), ('TYR 32 :A', 'ILE 124 :A'), ('TYR 32 :A', 'LEU 129 :A'), ('TYR 50 :A', 'ASN 19 :A'), ('TYR 50 :A', 'ASP 18 :A'), ('TYR 50 :A', 'LYS 13 :A'), ('TRP 92 :A', 'ARG 128 :A'), ('TRP 92 :A', 'LEU 129 :A'), ('TRP 92 :A', 'CYS 127 :A'), ('THR 30 :B', 'GLY 117 :A'), ('THR 30 :B', 'THR 118 :A'), ('GLY 31 :B', 'GLY 117 :A'), ('TRP 52 :B', 'ASP 119 :A'), ('TRP 52 :B', 'GLN 121 :A'), ('TRP 52 :B', 'ARG 125 :A'), ('GLY 53 :B', 'ASP 119 :A'), ('GLY 53 :B', 'GLY 117 :A'), ('GLY 53 :B', 'THR 118 :A'), ('ASP 54 :B', 'ASP 119 :A'), ('ASP 54 :B', 'THR 118 :A'), ('ASP 54 :B', 'GLY 117 :A'), ('ASN 56 :B', 'ASP 119 :A'), ('ASN 56 :B', 'ARG 125 :A'), ('ASP 58 :B', 'ARG 125 :A'), ('ARG 99 :B', 'GLY 22 :A'), ('ASP 100 :B', 'SER 24 :A'), ('ASP 100 :B', 'ASN 19 :A'), ('ASP 100 :B', 'TYR 23 :A'), ('ASP 100 :B', 'GLY 22 :A'), ('ASP 100 :B', 'ASN 27 :A'), ('TYR 101 :B', 'ASP 18 :A'), ('TYR 101 :B', 'SER 24 :A'), ('TYR 101 :B', 'ASN 19 :A'), ('TYR 101 :B', 'GLN 121 :A'), ('TYR 101 :B', 'LEU 25 :A'), ('TYR 101 :B', 'ILE 124 :A')]\n"
     ]
    }
   ],
   "source": [
    "print(contact_map)"
   ]
  },
  {
   "cell_type": "code",
   "execution_count": null,
   "metadata": {},
   "outputs": [],
   "source": []
  }
 ],
 "metadata": {
  "kernelspec": {
   "display_name": "Python 3",
   "language": "python",
   "name": "python3"
  },
  "language_info": {
   "codemirror_mode": {
    "name": "ipython",
    "version": 3
   },
   "file_extension": ".py",
   "mimetype": "text/x-python",
   "name": "python",
   "nbconvert_exporter": "python",
   "pygments_lexer": "ipython3",
   "version": "3.7.3"
  }
 },
 "nbformat": 4,
 "nbformat_minor": 1
}
