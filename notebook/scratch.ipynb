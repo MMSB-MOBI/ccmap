{
 "cells": [
  {
   "cell_type": "code",
   "execution_count": 10,
   "metadata": {},
   "outputs": [],
   "source": [
    "def splitInterval(iLen, nElem):\n",
    "    assert(nElem <= iLen)\n",
    "    \n",
    "   #iLen -= 1\n",
    "    nWidth = int(iLen/nElem)\n",
    "    \n",
    "    for i in range(nElem):\n",
    "        top = (i+1) * nWidth\n",
    "        if i == (nElem - 1): #and iLen%nElem != 0:\n",
    "            top +=  iLen%nElem\n",
    "\n",
    "        yield (i * nWidth, top)"
   ]
  },
  {
   "cell_type": "code",
   "execution_count": 13,
   "metadata": {},
   "outputs": [
    {
     "name": "stdout",
     "output_type": "stream",
     "text": [
      "0 12\n",
      "12 25\n"
     ]
    }
   ],
   "source": [
    "for u,v in splitInterval(25, 2):\n",
    "    print(u,v)"
   ]
  }
 ],
 "metadata": {
  "kernelspec": {
   "display_name": "p38",
   "language": "python",
   "name": "p38"
  },
  "language_info": {
   "codemirror_mode": {
    "name": "ipython",
    "version": 3
   },
   "file_extension": ".py",
   "mimetype": "text/x-python",
   "name": "python",
   "nbconvert_exporter": "python",
   "pygments_lexer": "ipython3",
   "version": "3.8.0"
  }
 },
 "nbformat": 4,
 "nbformat_minor": 2
}
